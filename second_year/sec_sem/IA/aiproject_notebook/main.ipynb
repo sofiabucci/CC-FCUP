{
 "cells": [
  {
   "cell_type": "code",
   "execution_count": null,
   "metadata": {},
   "outputs": [],
   "source": [
    "from game import Board\n",
    "from interface import Interface\n",
    "\n",
    "def main() -> None:\n",
    "    board = Board()\n",
    "    interface = Interface()\n",
    "    interface.start_game(board)\n",
    "    \n",
    "if __name__ == \"__main__\":\n",
    "    main()"
   ]
  }
 ],
 "metadata": {
  "kernelspec": {
   "display_name": "Python 3",
   "language": "python",
   "name": "python3"
  },
  "language_info": {
   "name": "python",
   "version": "3.8.5"
  }
 },
 "nbformat": 4,
 "nbformat_minor": 4
}
