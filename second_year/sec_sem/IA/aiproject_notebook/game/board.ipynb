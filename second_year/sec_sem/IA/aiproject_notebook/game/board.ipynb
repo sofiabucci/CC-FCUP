{
 "cells": [
  {
   "cell_type": "code",
   "execution_count": null,
   "metadata": {},
   "outputs": [],
   "source": [
    "import numpy as np\n",
    "from game import constants as c\n",
    "from dataclasses import dataclass, field\n",
    "\n",
    "@dataclass\n",
    "class Board:\n",
    "    rows: int = c.ROWS\n",
    "    columns: int = c.COLUMNS\n",
    "    board: np.ndarray = field(default_factory=lambda: np.zeros((6,7)))\n",
    "            \n",
    "    def get_board(self) -> np.ndarray:\n",
    "        return self.board\n",
    "\n",
    "    def print_board(self) -> None:\n",
    "        print(np.flip(self.board, 0), \"\\n\")\n",
    "        \n",
    " \n"
   ]
  }
 ],
 "metadata": {
  "kernelspec": {
   "display_name": "Python 3",
   "language": "python",
   "name": "python3"
  },
  "language_info": {
   "name": "python",
   "version": "3.8.5"
  }
 },
 "nbformat": 4,
 "nbformat_minor": 4
}
