{
 "cells": [
  {
   "cell_type": "code",
   "execution_count": null,
   "metadata": {},
   "outputs": [],
   "source": [
    "# Colors\n",
    "BOARD_COLOR = (169, 169, 169)\n",
    "BACKGROUND_COLOR = (30, 25, 112)\n",
    "SHADOW_COLOR = (170, 170, 170) \n",
    "PLAYER1_COLOR = (195,53,43)\n",
    "PLAYER2_COLOR = (255,205,49) \n",
    "TEXT_COLOR = (255,205,49) \n",
    "BUTTON_COLOR = (195,53,43)\n",
    "BUTTON_HOVER_COLOR = (155,13,0)\n",
    "\n",
    "PIECES_COLORS = [BACKGROUND_COLOR, PLAYER1_COLOR, PLAYER2_COLOR, PLAYER1_COLOR, PLAYER2_COLOR]\n",
    "PLAYER1_PIECE = 1\n",
    "PLAYER2_PIECE = 2\n",
    "\n",
    "\n",
    "# Constants for the data matrix\n",
    "ROWS = 6\n",
    "COLUMNS = 7\n",
    "\n",
    "# Constants for the board image\n",
    "SQUARESIZE = 100    # size of each square that will divide the screen \n",
    "RADIUS = 43     # radius of each player piece\n",
    "\n",
    "# Constants for the interface (scren)\n",
    "WIDTH = (4+COLUMNS) * SQUARESIZE    # width of the screen = board + 2 empty columns on each side of the screen\n",
    "HEIGHT = (ROWS+2) * SQUARESIZE    # height of the screen = board + 1 empty row under and above the board\n",
    "   \n",
    "        \n",
    "       "
   ]
  }
 ],
 "metadata": {
  "kernelspec": {
   "display_name": "Python 3",
   "language": "python",
   "name": "python3"
  },
  "language_info": {
   "name": "python",
   "version": "3.8.5"
  }
 },
 "nbformat": 4,
 "nbformat_minor": 4
}
