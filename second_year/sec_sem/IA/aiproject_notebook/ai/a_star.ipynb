{
 "cells": [
  {
   "cell_type": "code",
   "execution_count": null,
   "metadata": {},
   "outputs": [],
   "source": [
    "import numpy as np\n",
    "from game import constants as c \n",
    "from game import rules as game\n",
    "from ai import heuristic as h\n",
    "\n",
    "# Função que implementa o algoritmo A* simples para escolher o melhor movimento\n",
    "def a_star(board: np.ndarray, ai_piece: int, opponent_piece: int) -> int:\n",
    "    best_score = float('-inf')  # Inicializa a melhor pontuação como negativo infinito\n",
    "    best_move = -1  # Inicializa o melhor movimento como inválido\n",
    "\n",
    "    # Itera por todos os movimentos disponíveis no tabuleiro\n",
    "    for col in game.available_moves(board):\n",
    "        # Simula o tabuleiro após fazer o movimento na coluna `col`\n",
    "        simulated_board = game.simulate_move(board, ai_piece, col)\n",
    "        \n",
    "        # Calcula a pontuação heurística do tabuleiro simulado\n",
    "        cur_score = h.calculate_board_score(simulated_board, ai_piece, opponent_piece)\n",
    "        \n",
    "        # Se a pontuação for melhor do que a melhor encontrada até agora, atualiza\n",
    "        if cur_score > best_score:\n",
    "            best_move = col\n",
    "            best_score = cur_score\n",
    "\n",
    "    # Retorna a coluna com a melhor pontuação\n",
    "    return best_move\n",
    "\n",
    "\n"
   ]
  }
 ],
 "metadata": {
  "kernelspec": {
   "display_name": "Python 3",
   "language": "python",
   "name": "python3"
  },
  "language_info": {
   "name": "python",
   "version": "3.8.5"
  }
 },
 "nbformat": 4,
 "nbformat_minor": 4
}
