{
 "cells": [
  {
   "cell_type": "code",
   "execution_count": null,
   "metadata": {},
   "outputs": [],
   "source": [
    "from game import constants as c\n",
    "import numpy as np\n",
    "\n",
    "def calculate_board_score(board: np.ndarray, piece: int, opponent_piece: int) -> int:\n",
    "    score = 0\n",
    "\n",
    "    # Check horizontal\n",
    "    for col in range(c.COLUMNS - 3):\n",
    "        for r in range(c.ROWS):\n",
    "            segment = [board[r][col + i] for i in range(4)]\n",
    "            score += weights(segment, piece, opponent_piece)\n",
    "\n",
    "    # Check vertical\n",
    "    for col in range(c.COLUMNS):\n",
    "        for r in range(c.ROWS - 3):\n",
    "            segment = [board[r + i][col] for i in range(4)]\n",
    "            score += weights(segment, piece, opponent_piece)\n",
    "\n",
    "    # Check ascending diagonal\n",
    "    for col in range(c.COLUMNS - 3):\n",
    "        for r in range(c.ROWS - 3):\n",
    "            segment = [board[r + i][col + i] for i in range(4)]\n",
    "            score += weights(segment, piece, opponent_piece)\n",
    "\n",
    "    # Check descending diagonal\n",
    "    for col in range(c.COLUMNS - 3):\n",
    "        for r in range(3, c.ROWS):\n",
    "            segment = [board[r - i][col + i] for i in range(4)]\n",
    "            score += weights(segment, piece, opponent_piece)\n",
    "\n",
    "    return score\n",
    "\n",
    "\n",
    "def weights(segment: list, piece: int, opponent_piece: int) -> int:\n",
    "    if piece in segment and opponent_piece in segment: return 0\n",
    "    if segment.count(piece) == 1: return 1\n",
    "    if segment.count(piece) == 2: return 10\n",
    "    if segment.count(piece) == 3: return 50\n",
    "    if segment.count(piece) == 4: return 1000\n",
    "    if segment.count(opponent_piece) == 1: return -1\n",
    "    if segment.count(opponent_piece) == 2: return -10\n",
    "    if segment.count(opponent_piece) == 3: return -50\n",
    "    if segment.count(opponent_piece) == 4: return -2000\n",
    "    return 0"
   ]
  }
 ],
 "metadata": {
  "kernelspec": {
   "display_name": "Python 3",
   "language": "python",
   "name": "python3"
  },
  "language_info": {
   "name": "python",
   "version": "3.8.5"
  }
 },
 "nbformat": 4,
 "nbformat_minor": 4
}
